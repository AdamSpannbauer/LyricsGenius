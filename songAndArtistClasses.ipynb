{
 "cells": [
  {
   "cell_type": "code",
   "execution_count": 5,
   "metadata": {
    "collapsed": true
   },
   "outputs": [],
   "source": [
    "import sys\n",
    "import re\n",
    "import requests\n",
    "import json\n",
    "from bs4 import BeautifulSoup\n",
    "import urllib2\n",
    "import socket\n",
    "import time"
   ]
  },
  {
   "cell_type": "markdown",
   "metadata": {},
   "source": [
    "## Genius song and artist classes ##"
   ]
  },
  {
   "cell_type": "markdown",
   "metadata": {},
   "source": [
    "* Actually, it probably makes more sense to make a file called GeniusAPI.py that contains Song and Artist classes and then the functions for using the Genius API. So you'd do something like:"
   ]
  },
  {
   "cell_type": "markdown",
   "metadata": {},
   "source": [
    "```python\n",
    "# Here's how I envision the final form of the GeniusAPI.py file and the song and artist classes\n",
    "import GeniusAPI as Genius\n",
    "\n",
    "song1 = Genius.search_song('Yesterday','The Beatles') # Song object\n",
    "song2 = Genius.search_song('Prom Night','Chance the Rapper')\n",
    "artist = Genius.search_artist('Michael Jackson') # Artist object\n",
    "\n",
    "# Hmm, what other functions would be a part of the GeniusAPI class?\n",
    "\n",
    "```"
   ]
  },
  {
   "cell_type": "code",
   "execution_count": 6,
   "metadata": {
    "collapsed": true
   },
   "outputs": [],
   "source": [
    "class Song(object):\n",
    "    \"\"\"A song from the Genius.com database.\n",
    "    \n",
    "    Attributes:\n",
    "        title:  (str) Title of the song.\n",
    "        artist: (str) Primary artist on the song.\n",
    "        lyrcis: (str) Full set of song lyrics.\n",
    "        album:  (str) Name of the album the song is on.\n",
    "        year:   (int) Year the song was released.        \n",
    "    \"\"\"\n",
    "    \n",
    "    def __init__(self, title, artist, lyrics, album='',year=None):\n",
    "        \"\"\"Return a Song object whose title is *title*, artist is *artist*, and so on.\"\"\"    \n",
    "\n",
    "        self.title  = title\n",
    "        self.artist = artist\n",
    "        self.lyrics = lyrics\n",
    "        self.album  = album\n",
    "        self.year = year    \n",
    "        \n",
    "    def __str__(self):\n",
    "        \"\"\"Return a string representation of the Song object.\"\"\"\n",
    "        if len(self.lyrics) > 100:\n",
    "            lyr = self.lyrics[:100] + \"...\"\n",
    "        else: lyr = self.lyrics[:100]            \n",
    "        return '{0}, by {1}:\\n\"{2}\"'.format(self.title,self.artist,lyr)\n",
    "    \n",
    "    def __list__(self):\n",
    "        # Is this a thing?\n",
    "        return \n"
   ]
  },
  {
   "cell_type": "code",
   "execution_count": 7,
   "metadata": {
    "collapsed": true
   },
   "outputs": [],
   "source": [
    "class Artist(object):\n",
    "    \"\"\"An artist from the Genius.com database.\n",
    "    \n",
    "    Attributes:\n",
    "        name: (str) Artist name.\n",
    "        num_songs: (int) Total number of songs listed on Genius.com\n",
    "    \n",
    "    \"\"\"\n",
    "    def __init__(self, name, num_songs=0, song=None):\n",
    "        \"\"\"Return an Artist object whose name is *name*, etc.\"\"\"\n",
    "        self.name = name\n",
    "        self.num_songs = num_songs\n",
    "        self.songs = songs\n",
    "                \n",
    "    def add_song(self, song):\n",
    "        \"\"\"Add a Song object to the Artist object\"\"\"\n",
    "        self.songs.append(song)\n",
    "        self.num_songs += 1\n",
    "        \n",
    "    def remove_song(self, song):\n",
    "        \"\"\"Do I need this ability?\"\"\"\n",
    "        "
   ]
  },
  {
   "cell_type": "code",
   "execution_count": 8,
   "metadata": {
    "collapsed": true
   },
   "outputs": [],
   "source": [
    "import getSongLyrics as Genius"
   ]
  },
  {
   "cell_type": "code",
   "execution_count": 10,
   "metadata": {},
   "outputs": [
    {
     "name": "stdout",
     "output_type": "stream",
     "text": [
      "Prom Night, by Chance the Rapper:\n",
      "\"\n",
      "Charlie Bartlett, John Bender\n",
      "Class Switcher, Time Bender\n",
      "Chance Bennett, a peculiar name\n",
      "Graduatio...\"\n"
     ]
    }
   ],
   "source": [
    "title, artist = 'Prom Night','Chance the Rapper'\n",
    "lyrics = Genius.search_for_song(title,artist)\n",
    "song = Song(title,artist,lyrics,year=1965)\n",
    "print(song)"
   ]
  },
  {
   "cell_type": "code",
   "execution_count": 21,
   "metadata": {},
   "outputs": [
    {
     "data": {
      "text/plain": [
       "\"\\nCharlie Bartlett, John Bender\\nClass Switcher, Time Bender\\nChance Bennett, a peculiar name\\nGraduation night teachers Ferris Bueller'd my name\\nYou made a mixtape? Good job, I hope you get a good job\\nWe was all outcasts, only listened to Good Mob\\nI per\""
      ]
     },
     "execution_count": 21,
     "metadata": {},
     "output_type": "execute_result"
    }
   ],
   "source": [
    "song.lyrics[:250]"
   ]
  },
  {
   "cell_type": "code",
   "execution_count": null,
   "metadata": {
    "collapsed": true
   },
   "outputs": [],
   "source": [
    "print(song.lyrics[:250])"
   ]
  },
  {
   "cell_type": "code",
   "execution_count": null,
   "metadata": {
    "collapsed": true
   },
   "outputs": [],
   "source": [
    "\n",
    "\n",
    "\n",
    "\n",
    "\n",
    "\n",
    "\n",
    "\n",
    "\n",
    "\n",
    "\n",
    "\n",
    "\n",
    "\n",
    "\n",
    "\n",
    "\n",
    "\n",
    "\n",
    "\n",
    "\n",
    "\n",
    "\n",
    "\n",
    "\n",
    "\n",
    "\n",
    "\n",
    "\n"
   ]
  }
 ],
 "metadata": {
  "kernelspec": {
   "display_name": "Python 2",
   "language": "python",
   "name": "python2"
  },
  "language_info": {
   "codemirror_mode": {
    "name": "ipython",
    "version": 2
   },
   "file_extension": ".py",
   "mimetype": "text/x-python",
   "name": "python",
   "nbconvert_exporter": "python",
   "pygments_lexer": "ipython2",
   "version": "2.7.13"
  }
 },
 "nbformat": 4,
 "nbformat_minor": 2
}
