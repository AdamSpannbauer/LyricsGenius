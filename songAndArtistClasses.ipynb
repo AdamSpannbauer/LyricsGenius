{
 "cells": [
  {
   "cell_type": "code",
   "execution_count": 1,
   "metadata": {
    "collapsed": true
   },
   "outputs": [],
   "source": [
    "import sys\n",
    "import re\n",
    "import requests\n",
    "import json\n",
    "from bs4 import BeautifulSoup\n",
    "import urllib2\n",
    "import socket\n",
    "import time"
   ]
  },
  {
   "cell_type": "markdown",
   "metadata": {},
   "source": [
    "## Genius song and artist classes ##"
   ]
  },
  {
   "cell_type": "code",
   "execution_count": 59,
   "metadata": {},
   "outputs": [],
   "source": [
    "class Song(object):\n",
    "    \"\"\"A song from the Genius.com database.\n",
    "    \n",
    "    Attributes:\n",
    "        title:  (str) Title of the song.\n",
    "        artist: (str) Primary artist on the song.\n",
    "        lyrcis: (str) Full set of song lyrics.\n",
    "        album:  (str) Name of the album the song is on.\n",
    "        year:   (int) Year the song was released.        \n",
    "    \"\"\"\n",
    "    \n",
    "    def __init__(self, title, artist, lyrics, album='',year=None):\n",
    "        \"\"\"Return a Song object whose title is *title*, artist is *artist*, and so on.\"\"\"    \n",
    "\n",
    "        self.title  = title\n",
    "        self.artist = artist\n",
    "        self.lyrics = lyrics\n",
    "        self.album  = album\n",
    "        self.year = year    \n",
    "        \n",
    "    def __str__(self):\n",
    "        \"\"\"Return a string representation of the Song object.\"\"\"\n",
    "        if len(self.lyrics) > 100:\n",
    "            lyr = self.lyrics[:100] + \"...\"\n",
    "        else: lyr = self.lyrics[:100]            \n",
    "        return '{0}, by {1}:\\n\"{2}\"'.format(self.title,self.artist,lyr)\n"
   ]
  },
  {
   "cell_type": "code",
   "execution_count": 71,
   "metadata": {},
   "outputs": [
    {
     "name": "stdout",
     "output_type": "stream",
     "text": [
      "Yesterday, by The Beatles:\n",
      "\"Yesterday, all my troubles seemed so far away. Now it looks as though they're here to stay. Oh I bel...\"\n"
     ]
    }
   ],
   "source": [
    "Yesterday = Song('Yesterday','The Beatles',\"Yesterday, all my troubles seemed so far away. Now it looks as though they're here to stay. Oh I believe, in yesterday.\",year=1965)\n",
    "print(Yesterday)"
   ]
  }
 ],
 "metadata": {
  "kernelspec": {
   "display_name": "Python 2",
   "language": "python",
   "name": "python2"
  },
  "language_info": {
   "codemirror_mode": {
    "name": "ipython",
    "version": 2
   },
   "file_extension": ".py",
   "mimetype": "text/x-python",
   "name": "python",
   "nbconvert_exporter": "python",
   "pygments_lexer": "ipython2",
   "version": "2.7.13"
  }
 },
 "nbformat": 4,
 "nbformat_minor": 2
}
