{
 "cells": [
  {
   "cell_type": "code",
   "execution_count": 29,
   "metadata": {
    "collapsed": true
   },
   "outputs": [],
   "source": [
    "import os\n",
    "from textblob import TextBlob"
   ]
  },
  {
   "cell_type": "code",
   "execution_count": 22,
   "metadata": {
    "collapsed": true
   },
   "outputs": [],
   "source": [
    "def load_lyrics(filename):\n",
    "    if filename[-4:]!='.txt': filename = filename + '.txt'    \n",
    "    f = open(os.path.join('..','Lyrics',filename))\n",
    "    lyrics = f.read()\n",
    "    f.close\n",
    "    return lyrics"
   ]
  },
  {
   "cell_type": "code",
   "execution_count": 36,
   "metadata": {
    "scrolled": true
   },
   "outputs": [
    {
     "name": "stdout",
     "output_type": "stream",
     "text": [
      "I got suspended, ooohh you got suspended\n",
      "For chiefin' a hunnid blunts, 14,400 minutes\n",
      "Fans all in the stands, they hands for Mr. B\n"
     ]
    }
   ],
   "source": [
    "lyrics_Chance = load_lyrics('Lyrics_ChanceTheRapper')\n",
    "lyrics_LilWayne = load_lyrics('Lyrics_LilWayne')\n",
    "print(lyrics_Chance[110:240])\n"
   ]
  },
  {
   "cell_type": "code",
   "execution_count": 103,
   "metadata": {
    "collapsed": true
   },
   "outputs": [],
   "source": [
    "def measure_sentiment(lyrics):\n",
    "    TB = TextBlob(lyrics)\n",
    "    p = TB.sentiment.polarity\n",
    "    s = TB.sentiment.subjectivity\n",
    "    print('Positivity:   %.3f' %(p))\n",
    "    print('Subjectivity: %.3f' %(s))\n",
    "    return p, s"
   ]
  },
  {
   "cell_type": "code",
   "execution_count": 104,
   "metadata": {},
   "outputs": [
    {
     "name": "stdout",
     "output_type": "stream",
     "text": [
      "\n",
      "AndyShauf\n",
      "Positivity:   0.080\n",
      "Subjectivity: 0.509\n",
      "\n",
      "ChanceTheRapper\n",
      "Positivity:   0.064\n",
      "Subjectivity: 0.508\n",
      "\n",
      "Common\n",
      "Positivity:   0.064\n",
      "Subjectivity: 0.490\n",
      "\n",
      "IceCube\n",
      "Positivity:   -0.009\n",
      "Subjectivity: 0.493\n",
      "\n",
      "Jay-Z\n",
      "Positivity:   0.046\n",
      "Subjectivity: 0.484\n",
      "\n",
      "KanyeWest\n",
      "Positivity:   0.085\n",
      "Subjectivity: 0.509\n",
      "\n",
      "LilWayne\n",
      "Positivity:   0.023\n",
      "Subjectivity: 0.505\n",
      "\n",
      "MosDef\n",
      "Positivity:   0.110\n",
      "Subjectivity: 0.490\n",
      "\n",
      "Q-Tip\n",
      "Positivity:   0.072\n",
      "Subjectivity: 0.504\n",
      "\n",
      "TalibKweli\n",
      "Positivity:   0.063\n",
      "Subjectivity: 0.496\n",
      "\n",
      "TheBeatles\n",
      "Positivity:   0.159\n",
      "Subjectivity: 0.499\n",
      "\n",
      "TheNotoriousBIG\n",
      "Positivity:   -0.028\n",
      "Subjectivity: 0.505\n",
      "\n",
      "Tupac\n",
      "Positivity:   0.004\n",
      "Subjectivity: 0.507\n",
      "\n",
      "VicMensa\n",
      "Positivity:   -0.046\n",
      "Subjectivity: 0.530\n",
      "\n",
      "WarrenG\n",
      "Positivity:   0.038\n",
      "Subjectivity: 0.474\n"
     ]
    }
   ],
   "source": [
    "lyrics = load_lyrics('Lyrics_ChanceTheRapper')\n",
    "for artist in artists:\n",
    "    lyrics = load_lyrics(artist)\n",
    "    print('\\n'+artist.split('Lyrics_')[1].split('.txt')[0])\n",
    "    measure_sentiment(lyrics)"
   ]
  },
  {
   "cell_type": "code",
   "execution_count": null,
   "metadata": {
    "collapsed": true
   },
   "outputs": [],
   "source": [
    "\n",
    "\n",
    "\n",
    "\n",
    "\n",
    "\n",
    "\n",
    "\n",
    "\n",
    "\n",
    "\n",
    "\n",
    "\n",
    "\n",
    "\n",
    "\n",
    "\n",
    "\n",
    "\n",
    "\n",
    "\n",
    "\n",
    "\n",
    "\n",
    "\n",
    "\n",
    "\n",
    "\n",
    "\n",
    "\n",
    "\n",
    "\n"
   ]
  }
 ],
 "metadata": {
  "kernelspec": {
   "display_name": "Python 2",
   "language": "python",
   "name": "python2"
  },
  "language_info": {
   "codemirror_mode": {
    "name": "ipython",
    "version": 2
   },
   "file_extension": ".py",
   "mimetype": "text/x-python",
   "name": "python",
   "nbconvert_exporter": "python",
   "pygments_lexer": "ipython2",
   "version": "2.7.13"
  }
 },
 "nbformat": 4,
 "nbformat_minor": 2
}
