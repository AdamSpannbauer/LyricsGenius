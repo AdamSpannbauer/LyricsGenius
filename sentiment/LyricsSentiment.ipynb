{
 "cells": [
  {
   "cell_type": "code",
   "execution_count": 16,
   "metadata": {
    "collapsed": true
   },
   "outputs": [],
   "source": [
    "# Allow us to plot plots in our little windows\n",
    "%matplotlib inline"
   ]
  },
  {
   "cell_type": "code",
   "execution_count": 17,
   "metadata": {
    "collapsed": true
   },
   "outputs": [],
   "source": [
    "import os\n",
    "from textblob import TextBlob\n",
    "import matplotlib.pyplot as plt"
   ]
  },
  {
   "cell_type": "code",
   "execution_count": 18,
   "metadata": {
    "collapsed": true
   },
   "outputs": [],
   "source": [
    "def load_lyrics(filename):\n",
    "    if filename[-4:]!='.txt': filename = filename + '.txt'    \n",
    "    f = open(os.path.join('..','Lyrics',filename))\n",
    "    lyrics = f.read()\n",
    "    f.close\n",
    "    return lyrics"
   ]
  },
  {
   "cell_type": "code",
   "execution_count": 19,
   "metadata": {
    "collapsed": true
   },
   "outputs": [],
   "source": [
    "def measure_sentiment(lyrics,verbose=False):\n",
    "    TB = TextBlob(lyrics)\n",
    "    p = TB.sentiment.polarity\n",
    "    s = TB.sentiment.subjectivity\n",
    "    if verbose:\n",
    "        print('Positivity:   %.3f' %(p))\n",
    "        print('Subjectivity: %.3f' %(s))\n",
    "    return p, s"
   ]
  },
  {
   "cell_type": "code",
   "execution_count": 20,
   "metadata": {},
   "outputs": [
    {
     "name": "stdout",
     "output_type": "stream",
     "text": [
      "\n",
      "AndyShauf\n",
      "\n",
      "ChanceTheRapper\n",
      "\n",
      "Common\n",
      "\n",
      "GucciMane\n",
      "\n",
      "IceCube\n",
      "\n",
      "Jay-Z\n",
      "\n",
      "KanyeWest\n",
      "\n",
      "LilWayne\n",
      "\n",
      "MosDef\n",
      "\n",
      "Q-Tip\n",
      "\n",
      "TalibKweli\n",
      "\n",
      "TheBeatles\n",
      "\n",
      "TheNotoriousBIG\n",
      "\n",
      "Tupac\n",
      "\n",
      "VicMensa\n",
      "\n",
      "WarrenG\n"
     ]
    }
   ],
   "source": [
    "# Analyze the sentiment for each artist in the Lyrics directory\n",
    "import numpy as np\n",
    "\n",
    "artists = os.listdir('../Lyrics/')\n",
    "artist_scores = {}\n",
    "N = len(artists)\n",
    "X = np.zeros((N,1))\n",
    "Y = np.zeros((N,1))\n",
    "names = []\n",
    "i=0\n",
    "for artist in artists:\n",
    "    lyrics = load_lyrics(artist)\n",
    "    names.append(artist.split('Lyrics_')[1].split('.txt')[0])\n",
    "    print('\\n'+names[i])\n",
    "    artist_scores[names[i]] = measure_sentiment(lyrics)\n",
    "    X[i] = artist_scores[names[i]][0] # Store for plotting\n",
    "    Y[i] = artist_scores[names[i]][1]    \n",
    "    i+=1   "
   ]
  },
  {
   "cell_type": "markdown",
   "metadata": {},
   "source": [
    "## Sentiment Analysis"
   ]
  },
  {
   "cell_type": "code",
   "execution_count": 21,
   "metadata": {
    "scrolled": true
   },
   "outputs": [
    {
     "data": {
      "image/png": "[encoded data removed]",
      "text/plain": [
       "<matplotlib.figure.Figure at 0x10d1833d0>"
      ]
     },
     "metadata": {},
     "output_type": "display_data"
    }
   ],
   "source": [
    "# Plot each artist's positivity and subjectivity scores\n",
    "plt.plot(X,Y,'co',markersize=8)\n",
    "plt.xlim((-0.1, 0.2)); plt.ylim((0.45, 0.55))\n",
    "plt.xlabel('Positivity',fontsize=18)\n",
    "plt.ylabel('Subjectivity',fontsize=18)\n",
    "\n",
    "label_names = ['TheBeatles','WarrenG','ChanceTheRapper','VicMensa','MosDef']\n",
    "\n",
    "for name in label_names:\n",
    "    plt.annotate(\n",
    "        name, xy=(artist_scores[name]), xytext=(25,15),\n",
    "        textcoords='offset points', ha='right', va='bottom',\n",
    "        bbox=dict(boxstyle='round,pad=0.5', fc='yellow', alpha=0.5),\n",
    "        arrowprops=dict(arrowstyle = '->', connectionstyle='arc3,rad=0'))\n",
    "\n",
    "plt.show()"
   ]
  },
  {
   "cell_type": "code",
   "execution_count": null,
   "metadata": {
    "collapsed": true
   },
   "outputs": [],
   "source": [
    "\n",
    "\n",
    "\n",
    "\n",
    "\n",
    "\n",
    "\n",
    "\n",
    "\n",
    "\n",
    "\n",
    "\n",
    "\n",
    "\n",
    "\n",
    "\n",
    "\n",
    "\n",
    "\n",
    "\n",
    "\n",
    "\n",
    "\n",
    "\n",
    "\n",
    "\n",
    "\n",
    "\n",
    "\n",
    "\n",
    "\n",
    "\n"
   ]
  }
 ],
 "metadata": {
  "kernelspec": {
   "display_name": "Python 2",
   "language": "python",
   "name": "python2"
  },
  "language_info": {
   "codemirror_mode": {
    "name": "ipython",
    "version": 2
   },
   "file_extension": ".py",
   "mimetype": "text/x-python",
   "name": "python",
   "nbconvert_exporter": "python",
   "pygments_lexer": "ipython2",
   "version": "2.7.13"
  }
 },
 "nbformat": 4,
 "nbformat_minor": 2
}
