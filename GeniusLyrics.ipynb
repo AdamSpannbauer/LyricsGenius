{
 "cells": [
  {
   "cell_type": "code",
   "execution_count": 1,
   "metadata": {
    "collapsed": true
   },
   "outputs": [],
   "source": [
    "import sys\n",
    "import re\n",
    "import requests\n",
    "import json\n",
    "from bs4 import BeautifulSoup\n",
    "import urllib2\n",
    "import socket\n",
    "import time"
   ]
  },
  {
   "cell_type": "code",
   "execution_count": 2,
   "metadata": {
    "collapsed": true
   },
   "outputs": [],
   "source": [
    "def load_credentials():\n",
    "    lines = [line.rstrip('\\n') for line in open('credentials.ini')]\n",
    "    chars_to_strip = \" \\'\\\"\"\n",
    "    for line in lines:\n",
    "        if \"client_id\" in line:\n",
    "            client_id = re.findall(r'[\\\"\\']([^\\\"\\']*)[\\\"\\']', line)[0]\n",
    "        if \"client_secret\" in line:\n",
    "            client_secret = re.findall(r'[\\\"\\']([^\\\"\\']*)[\\\"\\']', line)[0]\n",
    "        #Currently only need access token to run, the other two perhaps for future implementation\n",
    "        if \"client_access_token\" in line:\n",
    "            client_access_token = re.findall(r'[\\\"\\']([^\\\"\\']*)[\\\"\\']', line)[0]\n",
    "\n",
    "    return client_id, client_secret, client_access_token"
   ]
  },
  {
   "cell_type": "code",
   "execution_count": 3,
   "metadata": {
    "collapsed": true
   },
   "outputs": [],
   "source": [
    "# Genius API credentials (available globally)\n",
    "client_id, client_secret, client_access_token = load_credentials()\n",
    "genius_url = \"http://api.genius.com\"\n",
    "headers = {'Authorization': 'Bearer ' + client_access_token}"
   ]
  },
  {
   "cell_type": "code",
   "execution_count": 4,
   "metadata": {
    "collapsed": true
   },
   "outputs": [],
   "source": [
    "def search_genius(search_term):             \n",
    "    querystring = \"http://api.genius.com/search?q=\" + urllib2.quote(search_term) + \"&page=\" + str(1)        \n",
    "    request = urllib2.Request(querystring)\n",
    "    request.add_header(\"Authorization\", \"Bearer \" + client_access_token)   \n",
    "    request.add_header(\"User-Agent\", \"curl/7.9.8 (i686-pc-linux-gnu) libcurl 7.9.8 (OpenSSL 0.9.6b) (ipv6 enabled)\") #Must include user agent of some sort, otherwise 403 returned\n",
    "    while True:\n",
    "        try:\n",
    "            response = urllib2.urlopen(request, timeout=4) #timeout set to 4 seconds; automatically retries if times out\n",
    "            raw = response.read()\n",
    "        except socket.timeout:\n",
    "            print(\"Timeout raised and caught\")\n",
    "            continue\n",
    "        break    \n",
    "\n",
    "    return json.loads(raw)"
   ]
  },
  {
   "cell_type": "code",
   "execution_count": 5,
   "metadata": {
    "collapsed": true
   },
   "outputs": [],
   "source": [
    "def get_song_and_artist_ids(song_title, artist_name):  \n",
    "    json_obj = search_genius(song_title + \" \" + artist_name)\n",
    "    body = json_obj[\"response\"][\"hits\"]\n",
    "    body = body[0] # Just keep the first hit (for now)\n",
    "    song_api   = body['result']['api_path']\n",
    "    artist_api = body['result']['primary_artist']['api_path']\n",
    "    \n",
    "    return song_api, artist_api"
   ]
  },
  {
   "cell_type": "code",
   "execution_count": 6,
   "metadata": {
    "collapsed": true
   },
   "outputs": [],
   "source": [
    "def get_genius_api_item(api_path):\n",
    "    base_url = \"http://api.genius.com\"\n",
    "    querystring = base_url + api_path      \n",
    "    request = urllib2.Request(querystring)\n",
    "    request.add_header(\"Authorization\", \"Bearer \" + client_access_token)   \n",
    "    request.add_header(\"User-Agent\", \"curl/7.9.8 (i686-pc-linux-gnu) libcurl 7.9.8 (OpenSSL 0.9.6b) (ipv6 enabled)\") #Must include user agent of some sort, otherwise 403 returned\n",
    "    while True:\n",
    "        try:\n",
    "            response = urllib2.urlopen(request, timeout=4) #timeout set to 4 seconds; automatically retries if times out\n",
    "            raw = response.read()\n",
    "        except socket.timeout:\n",
    "            print(\"Timeout raised and caught\")\n",
    "            continue\n",
    "        break\n",
    "\n",
    "    return json.loads(raw)"
   ]
  },
  {
   "cell_type": "code",
   "execution_count": 7,
   "metadata": {
    "collapsed": true
   },
   "outputs": [],
   "source": [
    "def get_artist_song_ids(artist_name):\n",
    "    obj = search_genius(artist_name)\n",
    "    song_title = obj['response']['hits'][0]['result']['title']\n",
    "    song_id, artist_id = get_song_and_artist_ids(song_title,artist_name)\n",
    "    id_num = int(artist_id.split('/')[-1])\n",
    "\n",
    "    # Okay, we have the artist API id, let's get a list of all of their songs on Genius\n",
    "    all_song_ids = []\n",
    "    page = 1\n",
    "    print('\\nGetting song IDs from Genius.com...')\n",
    "    while True:\n",
    "        # Access the Genius API to get artist's songs\n",
    "        artist_api_path = artist_id + '/songs' + '?page=%d' % page\n",
    "        json_obj = get_genius_api_item(artist_api_path)     \n",
    "        songs = json_obj['response']['songs']\n",
    "        \n",
    "        # Only keep a song's API path if its primary artist is correct\n",
    "        [all_song_ids.append(song['api_path']) for song in songs if song['primary_artist']['id'] == id_num]            \n",
    "\n",
    "        # Break the loop if we're on the last page\n",
    "        num_songs = len(songs)\n",
    "        print(\"Found {0} possible songs on page {1}.\".format(num_songs, page))    \n",
    "        if json_obj['response']['next_page']==None:\n",
    "            if page==1 & num_songs == 0:\n",
    "                print(\"No results for: \" + search_term)\n",
    "            break              \n",
    "        page += 1\n",
    "        \n",
    "    print('Total songs found: {0}.'.format(len(all_song_ids)))\n",
    "    return all_song_ids"
   ]
  },
  {
   "cell_type": "code",
   "execution_count": 8,
   "metadata": {
    "collapsed": true
   },
   "outputs": [],
   "source": [
    "def scrape_lyrics_from_song_api(song_api_path):\n",
    "    # Use BeautifulSoup to scrape lyrics off of a Genius song URL\n",
    "    json_obj = get_genius_api_item(song_api_path)\n",
    "\n",
    "    # Get the URL to the song lyrics\n",
    "    path = json_obj['response']['song']['path']\n",
    "    page_url = \"http://genius.com\" + path\n",
    "    page = requests.get(page_url)\n",
    "    html = BeautifulSoup(page.text, \"html.parser\")\n",
    "    [h.extract() for h in html('script')]        \n",
    "    lyrics = html.find(\"div\", class_=\"lyrics\").get_text().encode('ascii','ignore').decode('ascii')\n",
    "    lyrics = re.sub('\\[.*\\]','',lyrics) # Remove [Verse] and [Bridge] stuff\n",
    "    lyrics = re.sub('\\n{2}','',lyrics)  # Remove gaps between verses\n",
    "    return str(lyrics).strip('\\n')"
   ]
  },
  {
   "cell_type": "code",
   "execution_count": 9,
   "metadata": {
    "collapsed": true
   },
   "outputs": [],
   "source": [
    "def write_lyrics_to_file(lyrics,artist=''):   \n",
    "    if artist!='':\n",
    "        filename = 'Lyrics_{0}.txt'.format(artist.replace(' ',''))\n",
    "    else:\n",
    "        filename = \"Lyrics.txt\"\n",
    "    with open(filename, \"a\") as text_file:\n",
    "        text_file.write('\\n' + lyrics)"
   ]
  },
  {
   "cell_type": "markdown",
   "metadata": {},
   "source": [
    "**Download all song lyrics for a given artist**"
   ]
  },
  {
   "cell_type": "code",
   "execution_count": 23,
   "metadata": {},
   "outputs": [
    {
     "name": "stdout",
     "output_type": "stream",
     "text": [
      "\n",
      "Getting song IDs from Genius.com...\n",
      "Found 20 possible songs on page 1.\n",
      "Found 20 possible songs on page 2.\n",
      "Found 14 possible songs on page 3.\n",
      "Total songs found: 53.\n",
      "\n",
      "\n",
      "Alexander all alone\n",
      "Smoking a cigarette\n",
      "The last pack hed ever buy\n",
      "At least thats what he said\n",
      "He stood up to stretch his back\n",
      "And fell down to the ground\n",
      "Alexander all alone\n",
      "'Till the neighbour caught a glimpse\n",
      "Cried out for his wife\n",
      "To call the ambulance\n",
      "Alexander all alone\n",
      "Felt them check his pulse\n",
      "He heard them pronounce him dead\n",
      "Hell is found inside of me\n",
      "And nothing else will set me free\n",
      "If hell is found inside of me\n",
      "Then open me up and spill me out\n",
      "Alexander wondered why\n",
      "No life flashed before his eyes\n",
      "Why his soul did not depart\n",
      "Why he found no peace of mind\n",
      "Would it take a little while?\n",
      "Was it the same for everyone?\n",
      "Alexander realized\n",
      "That hell is found inside of me\n",
      "And nothing else will set me free\n",
      "If hell is found inside of me\n",
      "Then open me up and spill me out\n"
     ]
    }
   ],
   "source": [
    "# This is annoying, Genius doesn't seem to differentiate between interviews and actual songs\n",
    "# It just calls them all songs. You'd think there'd be a distinction in the metadata.\n",
    "artist_name = 'Andy Shauf'\n",
    "\n",
    "# Get list of Genius API IDs for all songs by artist\n",
    "all_song_ids = get_artist_song_ids(artist_name)\n",
    "lyrics = scrape_lyrics_from_song_api(all_song_ids[0]) # Easy to loop through and get lyrics for each song\n",
    "print('\\n'+lyrics)"
   ]
  },
  {
   "cell_type": "markdown",
   "metadata": {},
   "source": [
    "**Get song lyrics by searching song and artist name**"
   ]
  },
  {
   "cell_type": "code",
   "execution_count": 17,
   "metadata": {},
   "outputs": [
    {
     "name": "stdout",
     "output_type": "stream",
     "text": [
      "\n",
      "I don't wanna write this down\n",
      "I wanna tell you how I feel right now\n",
      "I don't wanna take no time to write this down\n",
      "I wanna tell you how I feel right now, hey (World premiere)Tomorrow may never come\n",
      "For you or me, life is not promised\n",
      "Tomorrow may never show up\n",
      "For you and me, this life is not promisedI ain't no perfect man\n",
      "I'm trying to do, the best that I can\n",
      "With what it is I have\n",
      "I ain't no perfect man\n",
      "I'm trying to do, the best that I can\n",
      "With what it is I have\n",
      "Put my heart and soul into this song\n",
      "I hope you feel me\n",
      "From where I am, to wherever you are\n",
      "I mean that sincerely\n",
      "Tomorrow may never come\n",
      "For you and me, life is not promised\n",
      "Tomorrow may never appear\n",
      "You better hold this very moment very close to you\n",
      "Very close to you, so close to you\n",
      "So close to you, don't be afraid, to let it shine\n",
      "My Umi said shine your light on the world\n",
      "Shine your light for the world to see\n",
      "My Abi said shine your light on the world\n",
      "Shine your light for the world to see\n",
      "My Umi said shine your light on the world\n",
      "Shine your light for the world to see\n",
      "My Abi said shine your light on the world\n",
      "Shine your light for the world to see\n",
      "Sometimes I get discouraged\n",
      "I look around and, things are so weak\n",
      "People are so weak\n",
      "Sometimes, sometimes I feel like crying\n",
      "Sometimes my heart gets heavy\n",
      "Sometimes I just want to leave and fly away (Like a dove)\n",
      "Sometimes I don't know what to do with myself\n",
      "Passion takes over me\n",
      "I feel like a man, going insane, losing my brain\n",
      "Trying to maintain, doing my thang\n",
      "Put my heart and soul into this y'all\n",
      "I hope you feel me where I am, to wherever you are\n",
      "Sometimes I don't want to be bothered\n",
      "Sometimes I just want a quiet life, with\n",
      "Me and my babies, me and my lady\n",
      "Sometimes I don't want to get into no war\n",
      "Sometimes I don't wanna be a soldier\n",
      "Sometimes I just wanna be a man, but\n",
      "My Umi said shine your light on the world\n",
      "Shine your light for the world to see\n",
      "My Abi said shine your light on the world\n",
      "Shine your light for the world to see\n",
      "My dreamers said shine your light on the world\n",
      "Shine your light for the world to see\n",
      "My elders said shine your light on the world\n",
      "Shine your light for the world to see\n",
      "I want black people to be free, to be free, to be free\n",
      "All my people to be free, to be free, to be free\n",
      "All black people to be free, to be free, to be free\n",
      "All black people to be freeThat's all that matters to me\n",
      "That's all that matters to me\n",
      "That's all that matters to me\n",
      "That's all that matters to me\n",
      "That's all that matters to me\n",
      "That's all that matters to meBlack people unite and let's all get down\n",
      "Gotta have what\n",
      "Gotta have that love\n",
      "Peace and understanding\n",
      "One God, one light\n",
      "One man, one voice, one mic\n",
      "Black people unite come on and do it right\n",
      "Black people unite come on and do it right\n",
      "Black people unite come on and get down\n",
      "Gotta have what\n",
      "Love, peace and understanding\n",
      "One God, one voice, one life\n",
      "One man, gon' shine my light\n",
      "Black people unite, now hop up and do it right\n",
      "Black people unite, now come on and do it right\n",
      "Yeah baby that's what I like\n",
      "Yeah baby that's what I like\n",
      "Black people\n",
      "My people\n",
      "Black people\n",
      "My people\n",
      "My people\n",
      "My people\n"
     ]
    }
   ],
   "source": [
    "song_title = 'Mos Def'\n",
    "artist_name = 'UMI Says'\n",
    "song_api_path, artist_api_path = get_song_and_artist_ids(song_title, artist_name)   \n",
    "lyrics = scrape_lyrics_from_song_api(song_api_path)   \n",
    "print(lyrics)"
   ]
  },
  {
   "cell_type": "code",
   "execution_count": null,
   "metadata": {
    "collapsed": true
   },
   "outputs": [],
   "source": [
    "\n",
    "\n",
    "\n",
    "\n",
    "\n",
    "\n",
    "\n",
    "\n",
    "\n",
    "\n",
    "\n",
    "\n",
    "\n",
    "\n",
    "\n",
    "\n",
    "\n",
    "\n",
    "\n",
    "\n",
    "\n",
    "\n",
    "\n",
    "\n",
    "\n",
    "\n",
    "\n",
    "\n",
    "\n"
   ]
  }
 ],
 "metadata": {
  "kernelspec": {
   "display_name": "Python 2",
   "language": "python",
   "name": "python2"
  },
  "language_info": {
   "codemirror_mode": {
    "name": "ipython",
    "version": 2
   },
   "file_extension": ".py",
   "mimetype": "text/x-python",
   "name": "python",
   "nbconvert_exporter": "python",
   "pygments_lexer": "ipython2",
   "version": "2.7.13"
  }
 },
 "nbformat": 4,
 "nbformat_minor": 2
}
