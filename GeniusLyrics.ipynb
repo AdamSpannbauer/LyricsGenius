{
 "cells": [
  {
   "cell_type": "code",
   "execution_count": 1,
   "metadata": {
    "collapsed": true
   },
   "outputs": [],
   "source": [
    "import sys\n",
    "import re\n",
    "import requests\n",
    "import json\n",
    "from bs4 import BeautifulSoup\n",
    "\n",
    "import urllib2\n",
    "import socket"
   ]
  },
  {
   "cell_type": "code",
   "execution_count": 2,
   "metadata": {
    "collapsed": true
   },
   "outputs": [],
   "source": [
    "def load_credentials():\n",
    "    lines = [line.rstrip('\\n') for line in open('credentials.ini')]\n",
    "    chars_to_strip = \" \\'\\\"\"\n",
    "    for line in lines:\n",
    "        if \"client_id\" in line:\n",
    "            client_id = re.findall(r'[\\\"\\']([^\\\"\\']*)[\\\"\\']', line)[0]\n",
    "        if \"client_secret\" in line:\n",
    "            client_secret = re.findall(r'[\\\"\\']([^\\\"\\']*)[\\\"\\']', line)[0]\n",
    "        #Currently only need access token to run, the other two perhaps for future implementation\n",
    "        if \"client_access_token\" in line:\n",
    "            client_access_token = re.findall(r'[\\\"\\']([^\\\"\\']*)[\\\"\\']', line)[0]\n",
    "\n",
    "    return client_id, client_secret, client_access_token"
   ]
  },
  {
   "cell_type": "code",
   "execution_count": 82,
   "metadata": {
    "collapsed": true
   },
   "outputs": [],
   "source": [
    "# Genius API credentials (available globally)\n",
    "client_id, client_secret, client_access_token = load_credentials()\n",
    "genius_url = \"http://api.genius.com\"\n",
    "headers = {'Authorization': 'Bearer ' + client_access_token}"
   ]
  },
  {
   "cell_type": "code",
   "execution_count": 42,
   "metadata": {
    "collapsed": true
   },
   "outputs": [],
   "source": [
    "def search_genius(search_term):             \n",
    "    querystring = \"http://api.genius.com/search?q=\" + urllib2.quote(search_term) + \"&page=\" + str(1)        \n",
    "    # querystring = \"http://api.genius.com/\" + urllib2.quote(search_term) + \"&page=\" + str(1)       \n",
    "    request = urllib2.Request(querystring)\n",
    "    request.add_header(\"Authorization\", \"Bearer \" + client_access_token)   \n",
    "    request.add_header(\"User-Agent\", \"curl/7.9.8 (i686-pc-linux-gnu) libcurl 7.9.8 (OpenSSL 0.9.6b) (ipv6 enabled)\") #Must include user agent of some sort, otherwise 403 returned\n",
    "    while True:\n",
    "        try:\n",
    "            response = urllib2.urlopen(request, timeout=4) #timeout set to 4 seconds; automatically retries if times out\n",
    "            raw = response.read()\n",
    "        except socket.timeout:\n",
    "            print(\"Timeout raised and caught\")\n",
    "            continue\n",
    "        break    \n",
    "\n",
    "    return json.loads(raw)"
   ]
  },
  {
   "cell_type": "code",
   "execution_count": 79,
   "metadata": {
    "collapsed": true
   },
   "outputs": [],
   "source": [
    "def get_song_and_artist_ids(song_title, artist_name):  \n",
    "    json_obj = search_genius(song_title + \" \" + artist_name)\n",
    "    body = json_obj[\"response\"][\"hits\"]\n",
    "    body = body[0] # Just keep the first hit (for now)\n",
    "    song_api   = body['result']['api_path']\n",
    "    artist_api = body['result']['primary_artist']['api_path']\n",
    "    \n",
    "    return song_api, artist_api"
   ]
  },
  {
   "cell_type": "markdown",
   "metadata": {},
   "source": [
    "**Download all song lyrics for a given artist**"
   ]
  },
  {
   "cell_type": "code",
   "execution_count": 167,
   "metadata": {},
   "outputs": [
    {
     "name": "stdout",
     "output_type": "stream",
     "text": [
      "Page 1 -- num songs 19:\n",
      "Page 2 -- num songs 20:\n",
      "Page 3 -- num songs 19:\n",
      "Page 4 -- num songs 19:\n",
      "Page 5 -- num songs 20:\n",
      "Page 6 -- num songs 19:\n",
      "Page 7 -- num songs 20:\n",
      "Page 8 -- num songs 20:\n",
      "Page 9 -- num songs 20:\n",
      "Page 10 -- num songs 20:\n",
      "Page 11 -- num songs 19:\n",
      "Page 12 -- num songs 19:\n",
      "Page 13 -- num songs 20:\n",
      "Page 14 -- num songs 20:\n",
      "Page 15 -- num songs 20:\n",
      "Total songs found: 310\n"
     ]
    }
   ],
   "source": [
    "# It's dumb, but you have to use an artist's song to get their artist ID\n",
    "artist_name ='Chance the rapper'\n",
    "song_title = 'Prom Night'\n",
    "song_id, artist_id = get_song_and_artist_ids(song_title,artist_name)\n",
    "\n",
    "# Okay, we have the artist API id, let's get a list of all of their songs on Genius\n",
    "all_song_ids = []\n",
    "# for page in range(1,10):\n",
    "page = 1\n",
    "while True:\n",
    "    request = urllib2.Request(genius_url + artist_id + '/songs' + '?page=%d' % page)\n",
    "    request.add_header(\"Authorization\", \"Bearer \" + client_access_token)\n",
    "    request.add_header(\"User-Agent\", \"curl/7.9.8 (i686-pc-linux-gnu) libcurl 7.9.8 (OpenSSL 0.9.6b) (ipv6 enabled)\")\n",
    "    response = urllib2.urlopen(request, timeout=4)\n",
    "    raw = response.read()\n",
    "    json_obj = json.loads(raw)    \n",
    "    [all_song_ids.append(song['api_path']) for song in json_obj['response']['songs']]\n",
    "\n",
    "    num_songs = len(json_obj['response']['songs'])\n",
    "    if json_obj['response']['next_page']==None:\n",
    "        if page==1:\n",
    "            print(\"No results for: \" + search_term)\n",
    "        break      \n",
    "    print(\"Page {0} -- num songs {1}:\".format(page, num_songs))    \n",
    "    page += 1\n",
    "    \n",
    "\n",
    "print('Total songs found: {0}'.format(len(all_song_ids)))"
   ]
  },
  {
   "cell_type": "code",
   "execution_count": 177,
   "metadata": {},
   "outputs": [
    {
     "name": "stdout",
     "output_type": "stream",
     "text": [
      "\n",
      "Yep, igh! igh! igh!\n",
      "I got suspended, ooohh you got suspended\n",
      "For chiefin' a hunnid blunts, 14,400 minutes\n",
      "Fans all in the stands, they hands for Mr. Bennett\n",
      "That racket over the net, ooohh give me my tennis\n",
      "Shoes, give me a minute, ooohh I can't be tardy\n",
      "My class is already started, they told my mom I'm retarded\n",
      "But that 10Day done in one night, Honda from a Hyundai\n",
      "No tassel in the spring, but after summer I'm alumni\n",
      "They took my nigga one night, and I was standing right there\n",
      "An inch away from Heaven, a million songs from right here\n",
      "A step away from South by, a swing away from Cali\n",
      "A hook away from verses, I'm a dad away from rapping\n",
      "So at the school they arrested him\n",
      "Back seat, squad car, nestled in\n",
      "Shouts to the bitch nigga Heselton\n",
      "Wit' his Big Show body ass wrestlin'\n",
      "Finna see the 10Day Pestilence\n",
      "So far, so good, so special and\n",
      "No stars, good jobs, or excellents\n",
      "And I'm still so fucking non-echelon\n",
      "Ooohh you got suspended, ooohh you not gon' finish\n",
      "Ooohh you look familiar, ooohh you look like Kenneth\n",
      "Damn they gon' resent it, ooohh you representin'\n",
      "A class of bad kids, 14,400 minutes, ahhh!\n",
      "IGH! IGH! IGH! IGH! IGH! IGH! IGH! IGH! (Ayy)\n"
     ]
    }
   ],
   "source": [
    "lyrics = lyrics_from_song_api_path(all_song_ids[2])\n",
    "print(lyrics)"
   ]
  },
  {
   "cell_type": "code",
   "execution_count": 150,
   "metadata": {
    "collapsed": true
   },
   "outputs": [],
   "source": [
    "def lyrics_from_song_api_path(song_api_path):                   \n",
    "    querystring = genius_url + song_api_path  \n",
    "    # print(querystring)\n",
    "    request = urllib2.Request(querystring)\n",
    "    request.add_header(\"Authorization\", \"Bearer \" + client_access_token)   \n",
    "    request.add_header(\"User-Agent\", \"curl/7.9.8 (i686-pc-linux-gnu) libcurl 7.9.8 (OpenSSL 0.9.6b) (ipv6 enabled)\") #Must include user agent of some sort, otherwise 403 returned\n",
    "    while True:\n",
    "        try:\n",
    "            response = urllib2.urlopen(request, timeout=4) #timeout set to 4 seconds; automatically retries if times out\n",
    "            raw = response.read()\n",
    "        except socket.timeout:\n",
    "            print(\"Timeout raised and caught\")\n",
    "            continue\n",
    "        break\n",
    "\n",
    "    json_obj = json.loads(raw)  \n",
    "\n",
    "    # Get the URL to the song lyrics\n",
    "    path = json_obj['response']['song']['path']\n",
    "    page_url = \"http://genius.com\" + path\n",
    "    page = requests.get(page_url)\n",
    "    html = BeautifulSoup(page.text, \"html.parser\")  \n",
    "    [h.extract() for h in html('script')]\n",
    "    lyrics = str(html.find(\"div\", class_=\"lyrics\").get_text())\n",
    "    lyrics = re.sub('\\[.*\\]','',lyrics) # Remove [Verse] and [Bridge] stuff\n",
    "    lyrics = re.sub('\\n{2}','',lyrics)  # Remove gaps between verses    \n",
    "    return lyrics"
   ]
  },
  {
   "cell_type": "markdown",
   "metadata": {},
   "source": [
    "**Older code (still useful)**"
   ]
  },
  {
   "cell_type": "code",
   "execution_count": 20,
   "metadata": {
    "collapsed": true
   },
   "outputs": [],
   "source": [
    "def write_lyrics_to_file(lyrics):   \n",
    "    with open(\"Lyrics.txt\", \"a\") as text_file:\n",
    "        text_file.write('\\n' + lyrics)"
   ]
  },
  {
   "cell_type": "code",
   "execution_count": 24,
   "metadata": {},
   "outputs": [
    {
     "name": "stdout",
     "output_type": "stream",
     "text": [
      "\n",
      "Something in the way she moves\n",
      "Attracts me like no other lover\n",
      "Something in the way she woos me\n",
      "I don't want to leave her now\n",
      "You know I believe and how\n",
      "Somewhere in her smile she knows\n",
      "That I don't need no other lover\n",
      "Something in her style that shows me\n",
      "I don't want to leave her now\n",
      "You know I believe and how\n",
      "You're asking me will my love grow\n",
      "I don't know, I don't know\n",
      "You stick around and it may show\n",
      "I don't know, I don't know\n",
      "Something in the way she knows\n",
      "And all I have to do is think of her\n",
      "Something in the things she shows me\n",
      "I don't want to leave her now\n",
      "You know I believe and how\n"
     ]
    }
   ],
   "source": [
    "arguments = ['something','the beatles']\n",
    "song_title = arguments[0].translate(None,\"\\'\\\"\")\n",
    "artist_name = arguments[1].translate(None,\"\\'\\\"\")       \n",
    "song_api_path = get_song_api(song_title, artist_name)   \n",
    "lyrics = lyrics_from_song_api_path(song_api_path)   \n",
    "print(lyrics)"
   ]
  },
  {
   "cell_type": "code",
   "execution_count": null,
   "metadata": {
    "collapsed": true
   },
   "outputs": [],
   "source": []
  },
  {
   "cell_type": "code",
   "execution_count": null,
   "metadata": {
    "collapsed": true
   },
   "outputs": [],
   "source": [
    "\n",
    "\n",
    "\n",
    "\n",
    "\n",
    "\n",
    "\n",
    "\n",
    "\n",
    "\n",
    "\n",
    "\n",
    "\n",
    "\n",
    "\n",
    "\n",
    "\n",
    "\n",
    "\n",
    "\n",
    "\n",
    "\n",
    "\n",
    "\n",
    "\n",
    "\n",
    "\n",
    "\n",
    "\n"
   ]
  }
 ],
 "metadata": {
  "kernelspec": {
   "display_name": "Python 2",
   "language": "python",
   "name": "python2"
  },
  "language_info": {
   "codemirror_mode": {
    "name": "ipython",
    "version": 2
   },
   "file_extension": ".py",
   "mimetype": "text/x-python",
   "name": "python",
   "nbconvert_exporter": "python",
   "pygments_lexer": "ipython2",
   "version": "2.7.13"
  }
 },
 "nbformat": 4,
 "nbformat_minor": 2
}
