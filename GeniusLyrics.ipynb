{
 "cells": [
  {
   "cell_type": "code",
   "execution_count": 73,
   "metadata": {
    "collapsed": true
   },
   "outputs": [],
   "source": [
    "import sys\n",
    "import re\n",
    "import requests\n",
    "import json\n",
    "from bs4 import BeautifulSoup\n",
    "\n",
    "import urllib2\n",
    "import socket\n",
    "import time"
   ]
  },
  {
   "cell_type": "code",
   "execution_count": 8,
   "metadata": {
    "collapsed": true
   },
   "outputs": [],
   "source": [
    "def load_credentials():\n",
    "    lines = [line.rstrip('\\n') for line in open('credentials.ini')]\n",
    "    chars_to_strip = \" \\'\\\"\"\n",
    "    for line in lines:\n",
    "        if \"client_id\" in line:\n",
    "            client_id = re.findall(r'[\\\"\\']([^\\\"\\']*)[\\\"\\']', line)[0]\n",
    "        if \"client_secret\" in line:\n",
    "            client_secret = re.findall(r'[\\\"\\']([^\\\"\\']*)[\\\"\\']', line)[0]\n",
    "        #Currently only need access token to run, the other two perhaps for future implementation\n",
    "        if \"client_access_token\" in line:\n",
    "            client_access_token = re.findall(r'[\\\"\\']([^\\\"\\']*)[\\\"\\']', line)[0]\n",
    "\n",
    "    return client_id, client_secret, client_access_token"
   ]
  },
  {
   "cell_type": "code",
   "execution_count": 9,
   "metadata": {
    "collapsed": true
   },
   "outputs": [],
   "source": [
    "# Genius API credentials (available globally)\n",
    "client_id, client_secret, client_access_token = load_credentials()\n",
    "genius_url = \"http://api.genius.com\"\n",
    "headers = {'Authorization': 'Bearer ' + client_access_token}"
   ]
  },
  {
   "cell_type": "code",
   "execution_count": 10,
   "metadata": {
    "collapsed": true
   },
   "outputs": [],
   "source": [
    "def search_genius(search_term):             \n",
    "    querystring = \"http://api.genius.com/search?q=\" + urllib2.quote(search_term) + \"&page=\" + str(1)        \n",
    "    request = urllib2.Request(querystring)\n",
    "    request.add_header(\"Authorization\", \"Bearer \" + client_access_token)   \n",
    "    request.add_header(\"User-Agent\", \"curl/7.9.8 (i686-pc-linux-gnu) libcurl 7.9.8 (OpenSSL 0.9.6b) (ipv6 enabled)\") #Must include user agent of some sort, otherwise 403 returned\n",
    "    while True:\n",
    "        try:\n",
    "            response = urllib2.urlopen(request, timeout=4) #timeout set to 4 seconds; automatically retries if times out\n",
    "            raw = response.read()\n",
    "        except socket.timeout:\n",
    "            print(\"Timeout raised and caught\")\n",
    "            continue\n",
    "        break    \n",
    "\n",
    "    return json.loads(raw)"
   ]
  },
  {
   "cell_type": "code",
   "execution_count": 11,
   "metadata": {
    "collapsed": true
   },
   "outputs": [],
   "source": [
    "def get_song_and_artist_ids(song_title, artist_name):  \n",
    "    json_obj = search_genius(song_title + \" \" + artist_name)\n",
    "    body = json_obj[\"response\"][\"hits\"]\n",
    "    body = body[0] # Just keep the first hit (for now)\n",
    "    song_api   = body['result']['api_path']\n",
    "    artist_api = body['result']['primary_artist']['api_path']\n",
    "    \n",
    "    return song_api, artist_api"
   ]
  },
  {
   "cell_type": "markdown",
   "metadata": {},
   "source": [
    "**Download all song lyrics for a given artist**"
   ]
  },
  {
   "cell_type": "code",
   "execution_count": 18,
   "metadata": {},
   "outputs": [
    {
     "name": "stdout",
     "output_type": "stream",
     "text": [
      "Page 1 -- all songs 19:\n",
      "Page 2 -- all songs 20:\n",
      "Page 3 -- all songs 20:\n",
      "Page 4 -- all songs 20:\n",
      "Page 5 -- all songs 20:\n",
      "Page 6 -- all songs 20:\n",
      "Page 7 -- all songs 20:\n",
      "Page 8 -- all songs 20:\n",
      "Page 9 -- all songs 20:\n",
      "Page 10 -- all songs 19:\n",
      "Page 11 -- all songs 20:\n",
      "Page 12 -- all songs 20:\n",
      "Page 13 -- all songs 20:\n",
      "Page 14 -- all songs 20:\n",
      "Page 15 -- all songs 19:\n",
      "Page 16 -- all songs 20:\n",
      "Total songs found: 187\n"
     ]
    }
   ],
   "source": [
    "# It's dumb, but you have to use an artist's song to get their artist ID\n",
    "artist_name ='Mos Def'\n",
    "obj = search_genius(artist_name)\n",
    "song_title = obj['response']['hits'][0]['result']['title']\n",
    "song_id, artist_id = get_song_and_artist_ids(song_title,artist_name)\n",
    "id_num = int(artist_id.split('/')[-1])\n",
    "\n",
    "# Okay, we have the artist API id, let's get a list of all of their songs on Genius\n",
    "all_song_ids = []\n",
    "# for page in range(1,10):\n",
    "page = 1\n",
    "while True:\n",
    "    request = urllib2.Request(genius_url + artist_id + '/songs' + '?page=%d' % page)\n",
    "    request.add_header(\"Authorization\", \"Bearer \" + client_access_token)\n",
    "    request.add_header(\"User-Agent\", \"curl/7.9.8 (i686-pc-linux-gnu) libcurl 7.9.8 (OpenSSL 0.9.6b) (ipv6 enabled)\")\n",
    "    response = urllib2.urlopen(request, timeout=4)\n",
    "    raw = response.read()\n",
    "    json_obj = json.loads(raw)      \n",
    "    songs = json_obj['response']['songs']\n",
    "    \n",
    "    # Keep track of song API paths if the primary artist is correct\n",
    "    [all_song_ids.append(song['api_path']) for song in songs if song['primary_artist']['id'] == id_num]            \n",
    "\n",
    "    num_songs = len(songs)    \n",
    "    if json_obj['response']['next_page']==None:\n",
    "        if page==1 & num_songs == 0:\n",
    "            print(\"No results for: \" + search_term)\n",
    "        break      \n",
    "    print(\"Page {0} -- all songs {1}:\".format(page, num_songs))    \n",
    "    page += 1\n",
    "    \n",
    "print('Total songs found: {0}'.format(len(all_song_ids)))"
   ]
  },
  {
   "cell_type": "code",
   "execution_count": 19,
   "metadata": {
    "collapsed": true
   },
   "outputs": [],
   "source": [
    "def lyrics_from_song_api_path(song_api_path):\n",
    "    # Use BeautifulSoup to scrape lyrics off of a Genius song URL\n",
    "    querystring = genius_url + song_api_path      \n",
    "    request = urllib2.Request(querystring)\n",
    "    request.add_header(\"Authorization\", \"Bearer \" + client_access_token)   \n",
    "    request.add_header(\"User-Agent\", \"curl/7.9.8 (i686-pc-linux-gnu) libcurl 7.9.8 (OpenSSL 0.9.6b) (ipv6 enabled)\") #Must include user agent of some sort, otherwise 403 returned\n",
    "    while True:\n",
    "        try:\n",
    "            response = urllib2.urlopen(request, timeout=4) #timeout set to 4 seconds; automatically retries if times out\n",
    "            raw = response.read()\n",
    "        except socket.timeout:\n",
    "            print(\"Timeout raised and caught\")\n",
    "            continue\n",
    "        break\n",
    "\n",
    "    json_obj = json.loads(raw)  \n",
    "\n",
    "    # Get the URL to the song lyrics\n",
    "    path = json_obj['response']['song']['path']\n",
    "    page_url = \"http://genius.com\" + path\n",
    "    page = requests.get(page_url)\n",
    "    html = BeautifulSoup(page.text, \"html.parser\")    \n",
    "    [h.extract() for h in html('script')]        \n",
    "    lyrics = html.find(\"div\", class_=\"lyrics\").get_text().encode('ascii','ignore').decode('ascii')\n",
    "    lyrics = re.sub('\\[.*\\]','',lyrics) # Remove [Verse] and [Bridge] stuff\n",
    "    lyrics = re.sub('\\n{2}','',lyrics)  # Remove gaps between verses\n",
    "    return str(lyrics)"
   ]
  },
  {
   "cell_type": "code",
   "execution_count": 20,
   "metadata": {
    "scrolled": true
   },
   "outputs": [
    {
     "name": "stdout",
     "output_type": "stream",
     "text": [
      "\n",
      "Peace, this is Yasiin\n",
      "No more parties in SA\n",
      "Please, tell 'em no more parties in SA\n",
      "Ain't home arrest, I don't need to stay\n",
      "I'll leave and I'll stay away\n",
      "I committed no crime any place\n",
      "Why these police up in my face?\n",
      "Why they raiding my place?\n",
      "Why I don't feel safe?\n",
      "This is not an expression of fear\n",
      "This is just to make things clear\n",
      "My intentions are pure in coming here\n",
      "And that's for everything I love or hold dear\n",
      "Umi's in the building\n",
      "So is my wife and my children\n",
      "I committed no crime\n",
      "Why is the state wasting my time?\n",
      "They must be out of their minds\n",
      "I forgive 'em, that's the spirit of divine\n",
      "I just wanna go where I'm wanted\n",
      "Where I'm loved, stop frontin'\n",
      "Where I live is my choice, you cannot mute my voice\n",
      "Thank you, Kanye West, for being a real friend, a real friend\n",
      "A real friend\n",
      "No more parties in SA\n",
      "Please, no more parties in SA\n",
      "I heard your choice the first time, I'll go away\n",
      "And when I leave, that's exactly where I'll stay\n",
      "This is not an expression of fear\n",
      "This is just to make things clear\n",
      "A country called Earth, everywhere\n",
      "A country called Earth, everywhere\n",
      "No more parties in SA\n",
      "Please, no more parties in SA\n",
      "That's just a freestyle; I had to let that out. Peace to all, fear none, this is Yasiin Bey. At this present time, I am currently in Cape Town, South Africa, and I'm being prevented from leaving, unjustly, unlawfully, and without any logical reason. They're saying that they want to deport my family. Uh, they're making false claims against me, some of these government officials, even in the press are making false claims against me, saying that my travel document that I was traveling with is fictitious, which it is not. Anyone can do the research about the world passport; it's not a fictitious document. It is not meant to deceive or derive unlawful benefit from any nation's state, at all. In fact, the world passport has been accepted here on numerous occasions in South Africa, in ports Johannesburg and Cape Town as early as 1996 and as late as 2015. You can see the stamps; they're there at the World Service Authority for anyone to investigate. To quote Lil Durk, I am not a liar. I've made no false claims. I have not misrepresented myself. I'm under unnecessary state supervision and scrutiny, and I have reason to believe or suspect that there are political motivations behind the way I'm being treated, because this is following no reasonable train of logic, as also, um...It's curious. I haven't broken any law, and I'm being treated like a criminal. I know I'm not unique in that regard, and I am grateful that I'm here with my family. I haven't been physically harmed or anything like that. However, I have been detained. People in this state have taken punitive action against me, unnecessarily. There's no reason I have to spend any time in the cell. There's no reason I had to have police come to my house, damn near six days later for something that happened at the airport, where nobody arrested me, and none of that ever happened, at all. This is not an administration of justice, and all I seek is to leave the state. I'm not looking to state any future claims against them for damages and none of that. People keep whatever little state jobs that they worried about or concerned about losing, because I'm not- I just wanna go home, and I don't live in America, and I have the right to domicile wherever I please, without fear or without interferenceThe state of South Africa has interfered with my ability to move or to even fulfill my professional obligations unnecessarily. And that's fine; we don't have to be enemies and we don't have to be friends either. My family and I are prepared, immediately, to make whatever move that we need to make outside of this state, never to return to this state again. We don't have to be here. We're not pining to be here, and were complying in every possible way, reasonably. Just today, state officials visited my domicile asking questions about me and my family, and they had no right to do so. I have legal representation here who they could easily contact. They're contravening and breaking all types of international law, and it's untenable for me to just sit by and just let this go on. And I know it's been a lot of chatter about what's going on, you know, people are running to the press, because that's justyou know, a money making machine. So, its another exploitative measure to turn this into some soap opera, some tele-novella, and I have no interest in it. Furthermore, related but not directly related to this: I'm retiring from the music recording industry as it is currently assembled today, and also from Hollywood, effective immediately. I am releasing my final album this year. Umand that's thatPeace to all, fear of none. Thank everyone for their time. Much success to you, even if you wish me the opposite, as Nas said. And I'm on the side of the right, so people could wish however they want, but I ain't nobody'sI ain't no threat or a hazard to nobody. I really try to mind my business. What people think about me is none of my business, and I'm not here to change people's opinions about me. You don't have to like me; you don't have to like everything that I say. The fact is, is that I have hurt no one. I have injured no parties, and all I require, as is my lawful right, is innocent passage to my domicile. That is allIn summary, I will say this, I will close with a simple prayer: To the one who has created the all, you know me better than I know myself, and I know myself better than people know me. So, forgive me for whatever they know or do not know. Make me better than whatever is said and do not make me responsible for whatever is said. Ameen, ameen, allahumma ameenAnd I'll close for you, Ye, with the, with the verse that I kicked for you on December 31st, when you was in Atlantic City and you announced that you and Kim were having Nori. And, and, shout out to Madlib, and Otis, andandand Michael and his entire family, and to Mama Jackson and to the whole Jackson clan in L.A., I wish you and your family the best, your mother, you know, reach out to me, Egon, you know, y'all know how to reach. Shout out to Corey Smyth, shout out to my brother Talib Kweli, salaam to my brother Kamaal Fareed, Ali Shaheed Muhammad, Islam, all of the Zulu Nation. The Zulu Nation real here; there's real Zulus. My brother, Siyabonga, the Madlalas. All of the people here who have supported me: this is no reflection on you. I love the people of this country. I love this continent. I do not have to sit idly by and just be persecuted unfairly by a state. They waste enough of my time and... I'm through with you Felicia... we're through. I don't want nothing from you. You can keep the records, the sweatshirts, everything; it's no problem. But I'll end with this verse that I wanna put on \"No More Parties in LA,\" if you would kindly allow me, my dear brother Kanye. And shout out to K. Lamar, too; I see you, my dude\n",
      "Lonely America, crazy America\n",
      "Loud ass, country ass, cocaine America\n",
      "Lethal America, carcinogen, asthma\n",
      "Carbonated smoke throughout your blood plasma\n",
      "Lights and camera, action, surveillance\n",
      "Helicopters, teleprompters\n",
      "Flossy newscasters, rich, fool, bastards\n",
      "War, migrant workers, cold murder, traffic\n",
      "Welcome to Los... stop right there\n",
      "Biggie got shot right here\n",
      "Angeles\n",
      "Hollywood, hoes, handgunsPeace to all, fear none. This is Bey. Love. One\n"
     ]
    }
   ],
   "source": [
    "# This is annoying, Genius doesn't seem to differentiate between interviews and actual songs\n",
    "# It just calls them all songs. You'd think there'd be a distinction in the metadata.\n",
    "lyrics = lyrics_from_song_api_path(all_song_ids[4])\n",
    "print(lyrics)"
   ]
  },
  {
   "cell_type": "code",
   "execution_count": 21,
   "metadata": {
    "collapsed": true
   },
   "outputs": [],
   "source": [
    "def write_lyrics_to_file(lyrics,artist=''):   \n",
    "    if artist!='':\n",
    "        filename = 'Lyrics_{0}.txt'.format(artist.replace(' ',''))\n",
    "    else:\n",
    "        filename = \"Lyrics.txt\"\n",
    "    with open(filename, \"a\") as text_file:\n",
    "        text_file.write('\\n' + lyrics)"
   ]
  },
  {
   "cell_type": "code",
   "execution_count": 22,
   "metadata": {
    "collapsed": true
   },
   "outputs": [],
   "source": [
    "# Output text file containing the lyrics of every identified song\n",
    "for i in range(len(all_song_ids)):\n",
    "    lyrics = lyrics_from_song_api_path(all_song_ids[i])\n",
    "    write_lyrics_to_file(lyrics,artist_name)"
   ]
  },
  {
   "cell_type": "markdown",
   "metadata": {},
   "source": [
    "**Get song lyrics by searching song and artist name**"
   ]
  },
  {
   "cell_type": "code",
   "execution_count": 17,
   "metadata": {},
   "outputs": [
    {
     "name": "stdout",
     "output_type": "stream",
     "text": [
      "\n",
      "I don't wanna write this down\n",
      "I wanna tell you how I feel right now\n",
      "I don't wanna take no time to write this down\n",
      "I wanna tell you how I feel right now, hey (World premiere)Tomorrow may never come\n",
      "For you or me, life is not promised\n",
      "Tomorrow may never show up\n",
      "For you and me, this life is not promisedI ain't no perfect man\n",
      "I'm trying to do, the best that I can\n",
      "With what it is I have\n",
      "I ain't no perfect man\n",
      "I'm trying to do, the best that I can\n",
      "With what it is I have\n",
      "Put my heart and soul into this song\n",
      "I hope you feel me\n",
      "From where I am, to wherever you are\n",
      "I mean that sincerely\n",
      "Tomorrow may never come\n",
      "For you and me, life is not promised\n",
      "Tomorrow may never appear\n",
      "You better hold this very moment very close to you\n",
      "Very close to you, so close to you\n",
      "So close to you, don't be afraid, to let it shine\n",
      "My Umi said shine your light on the world\n",
      "Shine your light for the world to see\n",
      "My Abi said shine your light on the world\n",
      "Shine your light for the world to see\n",
      "My Umi said shine your light on the world\n",
      "Shine your light for the world to see\n",
      "My Abi said shine your light on the world\n",
      "Shine your light for the world to see\n",
      "Sometimes I get discouraged\n",
      "I look around and, things are so weak\n",
      "People are so weak\n",
      "Sometimes, sometimes I feel like crying\n",
      "Sometimes my heart gets heavy\n",
      "Sometimes I just want to leave and fly away (Like a dove)\n",
      "Sometimes I don't know what to do with myself\n",
      "Passion takes over me\n",
      "I feel like a man, going insane, losing my brain\n",
      "Trying to maintain, doing my thang\n",
      "Put my heart and soul into this y'all\n",
      "I hope you feel me where I am, to wherever you are\n",
      "Sometimes I don't want to be bothered\n",
      "Sometimes I just want a quiet life, with\n",
      "Me and my babies, me and my lady\n",
      "Sometimes I don't want to get into no war\n",
      "Sometimes I don't wanna be a soldier\n",
      "Sometimes I just wanna be a man, but\n",
      "My Umi said shine your light on the world\n",
      "Shine your light for the world to see\n",
      "My Abi said shine your light on the world\n",
      "Shine your light for the world to see\n",
      "My dreamers said shine your light on the world\n",
      "Shine your light for the world to see\n",
      "My elders said shine your light on the world\n",
      "Shine your light for the world to see\n",
      "I want black people to be free, to be free, to be free\n",
      "All my people to be free, to be free, to be free\n",
      "All black people to be free, to be free, to be free\n",
      "All black people to be freeThat's all that matters to me\n",
      "That's all that matters to me\n",
      "That's all that matters to me\n",
      "That's all that matters to me\n",
      "That's all that matters to me\n",
      "That's all that matters to meBlack people unite and let's all get down\n",
      "Gotta have what\n",
      "Gotta have that love\n",
      "Peace and understanding\n",
      "One God, one light\n",
      "One man, one voice, one mic\n",
      "Black people unite come on and do it right\n",
      "Black people unite come on and do it right\n",
      "Black people unite come on and get down\n",
      "Gotta have what\n",
      "Love, peace and understanding\n",
      "One God, one voice, one life\n",
      "One man, gon' shine my light\n",
      "Black people unite, now hop up and do it right\n",
      "Black people unite, now come on and do it right\n",
      "Yeah baby that's what I like\n",
      "Yeah baby that's what I like\n",
      "Black people\n",
      "My people\n",
      "Black people\n",
      "My people\n",
      "My people\n",
      "My people\n"
     ]
    }
   ],
   "source": [
    "song_title = 'Mos Def'\n",
    "artist_name = 'UMI Says'\n",
    "song_api_path, artist_api_path = get_song_and_artist_ids(song_title, artist_name)   \n",
    "lyrics = lyrics_from_song_api_path(song_api_path)   \n",
    "print(lyrics)"
   ]
  },
  {
   "cell_type": "code",
   "execution_count": null,
   "metadata": {
    "collapsed": true
   },
   "outputs": [],
   "source": [
    "\n",
    "\n",
    "\n",
    "\n",
    "\n",
    "\n",
    "\n",
    "\n",
    "\n",
    "\n",
    "\n",
    "\n",
    "\n",
    "\n",
    "\n",
    "\n",
    "\n",
    "\n",
    "\n",
    "\n",
    "\n",
    "\n",
    "\n",
    "\n",
    "\n",
    "\n",
    "\n",
    "\n",
    "\n"
   ]
  }
 ],
 "metadata": {
  "kernelspec": {
   "display_name": "Python 2",
   "language": "python",
   "name": "python2"
  },
  "language_info": {
   "codemirror_mode": {
    "name": "ipython",
    "version": 2
   },
   "file_extension": ".py",
   "mimetype": "text/x-python",
   "name": "python",
   "nbconvert_exporter": "python",
   "pygments_lexer": "ipython2",
   "version": "2.7.13"
  }
 },
 "nbformat": 4,
 "nbformat_minor": 2
}
