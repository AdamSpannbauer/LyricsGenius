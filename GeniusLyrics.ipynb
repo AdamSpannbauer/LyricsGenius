{
 "cells": [
  {
   "cell_type": "code",
   "execution_count": 45,
   "metadata": {
    "collapsed": true
   },
   "outputs": [],
   "source": [
    "import sys\n",
    "import re\n",
    "import requests\n",
    "import json\n",
    "from bs4 import BeautifulSoup\n",
    "import urllib2\n",
    "import socket\n",
    "import time"
   ]
  },
  {
   "cell_type": "code",
   "execution_count": 46,
   "metadata": {
    "collapsed": true
   },
   "outputs": [],
   "source": [
    "def load_credentials():\n",
    "    lines = [line.rstrip('\\n') for line in open('credentials.ini')]\n",
    "    chars_to_strip = \" \\'\\\"\"\n",
    "    for line in lines:\n",
    "        if \"client_id\" in line:\n",
    "            client_id = re.findall(r'[\\\"\\']([^\\\"\\']*)[\\\"\\']', line)[0]\n",
    "        if \"client_secret\" in line:\n",
    "            client_secret = re.findall(r'[\\\"\\']([^\\\"\\']*)[\\\"\\']', line)[0]\n",
    "        #Currently only need access token to run, the other two perhaps for future implementation\n",
    "        if \"client_access_token\" in line:\n",
    "            client_access_token = re.findall(r'[\\\"\\']([^\\\"\\']*)[\\\"\\']', line)[0]\n",
    "\n",
    "    return client_id, client_secret, client_access_token"
   ]
  },
  {
   "cell_type": "code",
   "execution_count": 47,
   "metadata": {
    "collapsed": true
   },
   "outputs": [],
   "source": [
    "# Genius API credentials (available globally)\n",
    "client_id, client_secret, client_access_token = load_credentials()\n",
    "genius_url = \"http://api.genius.com\"\n",
    "headers = {'Authorization': 'Bearer ' + client_access_token}"
   ]
  },
  {
   "cell_type": "code",
   "execution_count": 48,
   "metadata": {
    "collapsed": true
   },
   "outputs": [],
   "source": [
    "def search_genius(search_term):             \n",
    "    querystring = \"http://api.genius.com/search?q=\" + urllib2.quote(search_term) + \"&page=\" + str(1)        \n",
    "    request = urllib2.Request(querystring)\n",
    "    request.add_header(\"Authorization\", \"Bearer \" + client_access_token)   \n",
    "    request.add_header(\"User-Agent\", \"curl/7.9.8 (i686-pc-linux-gnu) libcurl 7.9.8 (OpenSSL 0.9.6b) (ipv6 enabled)\") #Must include user agent of some sort, otherwise 403 returned\n",
    "    while True:\n",
    "        try:\n",
    "            response = urllib2.urlopen(request, timeout=4) #timeout set to 4 seconds; automatically retries if times out\n",
    "            raw = response.read()\n",
    "        except socket.timeout:\n",
    "            print(\"Timeout raised and caught\")\n",
    "            continue\n",
    "        break    \n",
    "\n",
    "    return json.loads(raw)"
   ]
  },
  {
   "cell_type": "code",
   "execution_count": 49,
   "metadata": {
    "collapsed": true
   },
   "outputs": [],
   "source": [
    "def get_song_and_artist_ids(song_title, artist_name):  \n",
    "    json_obj = search_genius(song_title + \" \" + artist_name)\n",
    "    body = json_obj[\"response\"][\"hits\"]\n",
    "    body = body[0] # Just keep the first hit (for now)\n",
    "    song_api   = body['result']['api_path']\n",
    "    artist_api = body['result']['primary_artist']['api_path']\n",
    "    \n",
    "    return song_api, artist_api"
   ]
  },
  {
   "cell_type": "code",
   "execution_count": 50,
   "metadata": {
    "collapsed": true
   },
   "outputs": [],
   "source": [
    "def get_genius_api_item(api_path):\n",
    "    base_url = \"http://api.genius.com\"\n",
    "    querystring = base_url + api_path      \n",
    "    request = urllib2.Request(querystring)\n",
    "    request.add_header(\"Authorization\", \"Bearer \" + client_access_token)   \n",
    "    request.add_header(\"User-Agent\", \"curl/7.9.8 (i686-pc-linux-gnu) libcurl 7.9.8 (OpenSSL 0.9.6b) (ipv6 enabled)\") #Must include user agent of some sort, otherwise 403 returned\n",
    "    while True:\n",
    "        try:\n",
    "            response = urllib2.urlopen(request, timeout=4) #timeout set to 4 seconds; automatically retries if times out\n",
    "            raw = response.read()\n",
    "        except socket.timeout:\n",
    "            print(\"Timeout raised and caught\")\n",
    "            continue\n",
    "        break\n",
    "\n",
    "    return json.loads(raw)"
   ]
  },
  {
   "cell_type": "code",
   "execution_count": 51,
   "metadata": {
    "collapsed": true
   },
   "outputs": [],
   "source": [
    "def get_artist_song_ids(artist_name):\n",
    "    obj = search_genius(artist_name)\n",
    "    song_title = obj['response']['hits'][0]['result']['title']\n",
    "    song_id, artist_id = get_song_and_artist_ids(song_title,artist_name)\n",
    "    id_num = int(artist_id.split('/')[-1])\n",
    "\n",
    "    # Okay, we have the artist API id, let's get a list of all of their songs on Genius\n",
    "    all_song_ids = []\n",
    "    page = 1\n",
    "    print('\\nGetting song IDs from Genius.com...')\n",
    "    while True:\n",
    "        # Access the Genius API to get artist's songs\n",
    "        artist_api_path = artist_id + '/songs' + '?page=%d' % page\n",
    "        json_obj = get_genius_api_item(artist_api_path)     \n",
    "        songs = json_obj['response']['songs']\n",
    "        \n",
    "        # Only keep a song's API path if its primary artist is correct\n",
    "        [all_song_ids.append(song['api_path']) for song in songs if song['primary_artist']['id'] == id_num]            \n",
    "\n",
    "        # Break the loop if we're on the last page\n",
    "        num_songs = len(songs)\n",
    "        print(\"Found {0} possible songs on page {1}.\".format(num_songs, page))    \n",
    "        if json_obj['response']['next_page']==None:\n",
    "            if page==1 & num_songs == 0:\n",
    "                print(\"No results for: \" + search_term)\n",
    "            break              \n",
    "        page += 1\n",
    "        \n",
    "    print('Total songs found: {0}.'.format(len(all_song_ids)))\n",
    "    return all_song_ids"
   ]
  },
  {
   "cell_type": "code",
   "execution_count": 52,
   "metadata": {
    "collapsed": true
   },
   "outputs": [],
   "source": [
    "def scrape_lyrics_from_song_api(song_api_path):\n",
    "    # Use BeautifulSoup to scrape lyrics off of a Genius song URL\n",
    "    json_obj = get_genius_api_item(song_api_path)\n",
    "\n",
    "    # Get the URL to the song lyrics\n",
    "    path = json_obj['response']['song']['path']\n",
    "    page_url = \"http://genius.com\" + path\n",
    "    page = requests.get(page_url)\n",
    "    html = BeautifulSoup(page.text, \"html.parser\")\n",
    "    [h.extract() for h in html('script')]        \n",
    "    lyrics = html.find(\"div\", class_=\"lyrics\").get_text().encode('ascii','ignore').decode('ascii')\n",
    "    lyrics = re.sub('\\[.*\\]','',lyrics) # Remove [Verse] and [Bridge] stuff\n",
    "    lyrics = re.sub('\\n{2}','',lyrics)  # Remove gaps between verses\n",
    "    return str(lyrics)"
   ]
  },
  {
   "cell_type": "code",
   "execution_count": 53,
   "metadata": {
    "collapsed": true
   },
   "outputs": [],
   "source": [
    "def write_lyrics_to_file(lyrics,artist=''):   \n",
    "    if artist!='':\n",
    "        filename = 'Lyrics_{0}.txt'.format(artist.replace(' ',''))\n",
    "    else:\n",
    "        filename = \"Lyrics.txt\"\n",
    "    with open(filename, \"a\") as text_file:\n",
    "        text_file.write('\\n' + lyrics)"
   ]
  },
  {
   "cell_type": "markdown",
   "metadata": {},
   "source": [
    "**Download all song lyrics for a given artist**"
   ]
  },
  {
   "cell_type": "code",
   "execution_count": 54,
   "metadata": {},
   "outputs": [
    {
     "name": "stdout",
     "output_type": "stream",
     "text": [
      "\n",
      "Getting song IDs from Genius.com...\n",
      "Found 19 possible songs on page 1.\n",
      "Found 20 possible songs on page 2.\n",
      "Found 19 possible songs on page 3.\n",
      "Found 19 possible songs on page 4.\n",
      "Found 20 possible songs on page 5.\n",
      "Found 19 possible songs on page 6.\n",
      "Found 20 possible songs on page 7.\n",
      "Found 20 possible songs on page 8.\n",
      "Found 20 possible songs on page 9.\n",
      "Found 20 possible songs on page 10.\n",
      "Found 19 possible songs on page 11.\n",
      "Found 19 possible songs on page 12.\n",
      "Found 20 possible songs on page 13.\n",
      "Found 20 possible songs on page 14.\n",
      "Found 20 possible songs on page 15.\n",
      "Found 16 possible songs on page 16.\n",
      "Total songs found: 117.\n",
      "\n",
      "\n",
      "Yep, igh! igh! igh!\n",
      "I got suspended, ooohh you got suspended\n",
      "For chiefin' a hunnid blunts, 14,400 minutes\n",
      "Fans all in the stands, they hands for Mr. Bennett\n",
      "That racket over the net, ooohh give me my tennis\n",
      "Shoes, give me a minute, ooohh I can't be tardy\n",
      "My class is already started, they told my mom I'm retarded\n",
      "But that 10Day done in one night, Honda from a Hyundai\n",
      "No tassel in the spring, but after summer I'm alumni\n",
      "They took my nigga one night, and I was standing right there\n",
      "An inch away from Heaven, a million songs from right here\n",
      "A step away from South by, a swing away from Cali\n",
      "A hook away from verses, I'm a dad away from rapping\n",
      "So at the school they arrested him\n",
      "Back seat, squad car, nestled in\n",
      "Shouts to the bitch nigga Heselton\n",
      "Wit' his Big Show body ass wrestlin'\n",
      "Finna see the 10Day Pestilence\n",
      "So far, so good, so special and\n",
      "No stars, good jobs, or excellents\n",
      "And I'm still so fucking non-echelon\n",
      "Ooohh you got suspended, ooohh you not gon' finish\n",
      "Ooohh you look familiar, ooohh you look like Kenneth\n",
      "Damn they gon' resent it, ooohh you representin'\n",
      "A class of bad kids, 14,400 minutes, ahhh!\n",
      "IGH! IGH! IGH! IGH! IGH! IGH! IGH! IGH! (Ayy)\n"
     ]
    }
   ],
   "source": [
    "# This is annoying, Genius doesn't seem to differentiate between interviews and actual songs\n",
    "# It just calls them all songs. You'd think there'd be a distinction in the metadata.\n",
    "artist_name = 'Chance the rapper'\n",
    "\n",
    "# Get list of Genius API IDs for all songs by artist\n",
    "all_song_ids = get_artist_song_ids(artist_name)\n",
    "lyrics = scrape_lyrics_from_song_api(all_song_ids[2]) # Easy to loop through and get lyrics for each song\n",
    "print('\\n'+lyrics)"
   ]
  },
  {
   "cell_type": "markdown",
   "metadata": {},
   "source": [
    "**Get song lyrics by searching song and artist name**"
   ]
  },
  {
   "cell_type": "code",
   "execution_count": 17,
   "metadata": {},
   "outputs": [
    {
     "name": "stdout",
     "output_type": "stream",
     "text": [
      "\n",
      "I don't wanna write this down\n",
      "I wanna tell you how I feel right now\n",
      "I don't wanna take no time to write this down\n",
      "I wanna tell you how I feel right now, hey (World premiere)Tomorrow may never come\n",
      "For you or me, life is not promised\n",
      "Tomorrow may never show up\n",
      "For you and me, this life is not promisedI ain't no perfect man\n",
      "I'm trying to do, the best that I can\n",
      "With what it is I have\n",
      "I ain't no perfect man\n",
      "I'm trying to do, the best that I can\n",
      "With what it is I have\n",
      "Put my heart and soul into this song\n",
      "I hope you feel me\n",
      "From where I am, to wherever you are\n",
      "I mean that sincerely\n",
      "Tomorrow may never come\n",
      "For you and me, life is not promised\n",
      "Tomorrow may never appear\n",
      "You better hold this very moment very close to you\n",
      "Very close to you, so close to you\n",
      "So close to you, don't be afraid, to let it shine\n",
      "My Umi said shine your light on the world\n",
      "Shine your light for the world to see\n",
      "My Abi said shine your light on the world\n",
      "Shine your light for the world to see\n",
      "My Umi said shine your light on the world\n",
      "Shine your light for the world to see\n",
      "My Abi said shine your light on the world\n",
      "Shine your light for the world to see\n",
      "Sometimes I get discouraged\n",
      "I look around and, things are so weak\n",
      "People are so weak\n",
      "Sometimes, sometimes I feel like crying\n",
      "Sometimes my heart gets heavy\n",
      "Sometimes I just want to leave and fly away (Like a dove)\n",
      "Sometimes I don't know what to do with myself\n",
      "Passion takes over me\n",
      "I feel like a man, going insane, losing my brain\n",
      "Trying to maintain, doing my thang\n",
      "Put my heart and soul into this y'all\n",
      "I hope you feel me where I am, to wherever you are\n",
      "Sometimes I don't want to be bothered\n",
      "Sometimes I just want a quiet life, with\n",
      "Me and my babies, me and my lady\n",
      "Sometimes I don't want to get into no war\n",
      "Sometimes I don't wanna be a soldier\n",
      "Sometimes I just wanna be a man, but\n",
      "My Umi said shine your light on the world\n",
      "Shine your light for the world to see\n",
      "My Abi said shine your light on the world\n",
      "Shine your light for the world to see\n",
      "My dreamers said shine your light on the world\n",
      "Shine your light for the world to see\n",
      "My elders said shine your light on the world\n",
      "Shine your light for the world to see\n",
      "I want black people to be free, to be free, to be free\n",
      "All my people to be free, to be free, to be free\n",
      "All black people to be free, to be free, to be free\n",
      "All black people to be freeThat's all that matters to me\n",
      "That's all that matters to me\n",
      "That's all that matters to me\n",
      "That's all that matters to me\n",
      "That's all that matters to me\n",
      "That's all that matters to meBlack people unite and let's all get down\n",
      "Gotta have what\n",
      "Gotta have that love\n",
      "Peace and understanding\n",
      "One God, one light\n",
      "One man, one voice, one mic\n",
      "Black people unite come on and do it right\n",
      "Black people unite come on and do it right\n",
      "Black people unite come on and get down\n",
      "Gotta have what\n",
      "Love, peace and understanding\n",
      "One God, one voice, one life\n",
      "One man, gon' shine my light\n",
      "Black people unite, now hop up and do it right\n",
      "Black people unite, now come on and do it right\n",
      "Yeah baby that's what I like\n",
      "Yeah baby that's what I like\n",
      "Black people\n",
      "My people\n",
      "Black people\n",
      "My people\n",
      "My people\n",
      "My people\n"
     ]
    }
   ],
   "source": [
    "song_title = 'Mos Def'\n",
    "artist_name = 'UMI Says'\n",
    "song_api_path, artist_api_path = get_song_and_artist_ids(song_title, artist_name)   \n",
    "lyrics = scrape_lyrics_from_song_api(song_api_path)   \n",
    "print(lyrics)"
   ]
  },
  {
   "cell_type": "code",
   "execution_count": null,
   "metadata": {
    "collapsed": true
   },
   "outputs": [],
   "source": [
    "\n",
    "\n",
    "\n",
    "\n",
    "\n",
    "\n",
    "\n",
    "\n",
    "\n",
    "\n",
    "\n",
    "\n",
    "\n",
    "\n",
    "\n",
    "\n",
    "\n",
    "\n",
    "\n",
    "\n",
    "\n",
    "\n",
    "\n",
    "\n",
    "\n",
    "\n",
    "\n",
    "\n",
    "\n"
   ]
  }
 ],
 "metadata": {
  "kernelspec": {
   "display_name": "Python 2",
   "language": "python",
   "name": "python2"
  },
  "language_info": {
   "codemirror_mode": {
    "name": "ipython",
    "version": 2
   },
   "file_extension": ".py",
   "mimetype": "text/x-python",
   "name": "python",
   "nbconvert_exporter": "python",
   "pygments_lexer": "ipython2",
   "version": "2.7.13"
  }
 },
 "nbformat": 4,
 "nbformat_minor": 2
}
